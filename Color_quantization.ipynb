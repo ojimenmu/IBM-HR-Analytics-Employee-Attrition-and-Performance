{
  "cells": [
    {
      "cell_type": "markdown",
      "metadata": {
        "id": "view-in-github",
        "colab_type": "text"
      },
      "source": [
        "<a href=\"https://colab.research.google.com/github/ojimenmu/IBM-HR-Analytics-Employee-Attrition-and-Performance/blob/main/Color_quantization.ipynb\" target=\"_parent\"><img src=\"https://colab.research.google.com/assets/colab-badge.svg\" alt=\"Open In Colab\"/></a>"
      ]
    },
    {
      "cell_type": "markdown",
      "source": [
        "Para programar una función de Python que use las bibliotecas NumPy, Pandas y OpenCV para dividir una imagen con n colores en m colores indicados por el usuario, podemos seguir los siguientes pasos:\n",
        "\n",
        "1. Importar las bibliotecas necesarias:"
      ],
      "metadata": {
        "id": "H-bgkXsY9YMh"
      }
    },
    {
      "cell_type": "code",
      "source": [
        "import numpy as np\n",
        "import pandas as pd\n",
        "import cv2 as cv\n",
        "from google.colab.patches import cv2_imshow"
      ],
      "outputs": [],
      "execution_count": 25,
      "metadata": {
        "id": "QJ7hCe-G9YMj"
      }
    },
    {
      "cell_type": "markdown",
      "source": [
        "2. Definir la función:"
      ],
      "metadata": {
        "id": "RkRBjFmn9YMk"
      }
    },
    {
      "cell_type": "code",
      "source": [
        "def divide_image(image, m):\n",
        "  \"\"\"\n",
        "  Divide una imagen en m colores.\n",
        "\n",
        "  Args:\n",
        "    imagen: La imagen a dividir.\n",
        "    m: El número de colores deseados.\n",
        "\n",
        "  Returns:\n",
        "    La imagen dividida en m colores.\n",
        "  \"\"\"\n",
        "  img = image\n",
        "  Z = img.reshape((-1,3))\n",
        "  # convert to np.float32\n",
        "  Z = np.float32(Z)\n",
        "  # define criteria, number of clusters(K) and apply kmeans()\n",
        "  criteria = (cv.TERM_CRITERIA_EPS + cv.TERM_CRITERIA_MAX_ITER, 10, 1.0)\n",
        "  K = m\n",
        "  ret,label,center=cv.kmeans(Z,K,None,criteria,10,cv.KMEANS_RANDOM_CENTERS)\n",
        "  # Now convert back into uint8, and make original image\n",
        "  center = np.uint8(center)\n",
        "  res = center[label.flatten()]\n",
        "  res2 = res.reshape((img.shape))\n",
        "\n",
        "  return res2"
      ],
      "outputs": [],
      "execution_count": 6,
      "metadata": {
        "id": "LGlJdT019YMl"
      }
    },
    {
      "cell_type": "markdown",
      "source": [
        "3. Usar la función:"
      ],
      "metadata": {
        "id": "kediAvWV9YMm"
      }
    },
    {
      "cell_type": "code",
      "source": [
        "\n",
        "import os\n",
        "from tqdm import tqdm\n",
        "\n",
        "directory = os.fsencode(\"/content/IMAGES/\")\n",
        "for file in tqdm(os.listdir(directory)):\n",
        "  filename = os.fsdecode(file)\n",
        "  abspath = os.fsdecode(directory) + filename\n",
        "  if filename.endswith('.png') or filename.endswith('.jpg'):\n",
        "    # Importar la imagen.\n",
        "    image = cv.imread(abspath)\n",
        "\n",
        "    # Dividir la imagen en n colores.\n",
        "    image_divided = divide_image(image, 4)\n",
        "    # Mostrar la imagen dividida.\n",
        "    cv.imwrite(\"/content/RESULT/\" + filename, image_divided)\n",
        "    print(\" \" +filename + \" saved\")"
      ],
      "outputs": [
        {
          "output_type": "stream",
          "name": "stderr",
          "text": [
            "  7%|▋         | 1/14 [00:00<00:06,  2.15it/s]"
          ]
        },
        {
          "output_type": "stream",
          "name": "stdout",
          "text": [
            " Andy_Warhol_76.jpg saved\n"
          ]
        },
        {
          "output_type": "stream",
          "name": "stderr",
          "text": [
            "\r 14%|█▍        | 2/14 [00:01<00:11,  1.01it/s]"
          ]
        },
        {
          "output_type": "stream",
          "name": "stdout",
          "text": [
            " Andy_Warhol_66.jpg saved\n"
          ]
        },
        {
          "output_type": "stream",
          "name": "stderr",
          "text": [
            "\r 21%|██▏       | 3/14 [00:02<00:11,  1.02s/it]"
          ]
        },
        {
          "output_type": "stream",
          "name": "stdout",
          "text": [
            " Andy_Warhol_80.jpg saved\n"
          ]
        },
        {
          "output_type": "stream",
          "name": "stderr",
          "text": [
            "\r 29%|██▊       | 4/14 [00:09<00:31,  3.11s/it]"
          ]
        },
        {
          "output_type": "stream",
          "name": "stdout",
          "text": [
            " Alfred_Sisley_154.jpg saved\n"
          ]
        },
        {
          "output_type": "stream",
          "name": "stderr",
          "text": [
            "\r 36%|███▌      | 5/14 [00:13<00:31,  3.46s/it]"
          ]
        },
        {
          "output_type": "stream",
          "name": "stdout",
          "text": [
            " Alfred_Sisley_214.jpg saved\n"
          ]
        },
        {
          "output_type": "stream",
          "name": "stderr",
          "text": [
            "\r 43%|████▎     | 6/14 [00:15<00:25,  3.13s/it]"
          ]
        },
        {
          "output_type": "stream",
          "name": "stdout",
          "text": [
            " Alfred_Sisley_96.jpg saved\n"
          ]
        },
        {
          "output_type": "stream",
          "name": "stderr",
          "text": [
            "\r 50%|█████     | 7/14 [00:20<00:25,  3.60s/it]"
          ]
        },
        {
          "output_type": "stream",
          "name": "stdout",
          "text": [
            " Alfred_Sisley_59.jpg saved\n"
          ]
        },
        {
          "output_type": "stream",
          "name": "stderr",
          "text": [
            "\r 57%|█████▋    | 8/14 [00:38<00:49,  8.28s/it]"
          ]
        },
        {
          "output_type": "stream",
          "name": "stdout",
          "text": [
            " Alfred_Sisley_140.jpg saved\n"
          ]
        },
        {
          "output_type": "stream",
          "name": "stderr",
          "text": [
            "\r 64%|██████▍   | 9/14 [00:55<00:54, 10.95s/it]"
          ]
        },
        {
          "output_type": "stream",
          "name": "stdout",
          "text": [
            " Alfred_Sisley_155.jpg saved\n"
          ]
        },
        {
          "output_type": "stream",
          "name": "stderr",
          "text": [
            "\r 71%|███████▏  | 10/14 [01:04<00:40, 10.24s/it]"
          ]
        },
        {
          "output_type": "stream",
          "name": "stdout",
          "text": [
            " Alfred_Sisley_121.jpg saved\n"
          ]
        },
        {
          "output_type": "stream",
          "name": "stderr",
          "text": [
            "\r 79%|███████▊  | 11/14 [01:05<00:22,  7.48s/it]"
          ]
        },
        {
          "output_type": "stream",
          "name": "stdout",
          "text": [
            " Andy_Warhol_55.jpg saved\n"
          ]
        },
        {
          "output_type": "stream",
          "name": "stderr",
          "text": [
            "\r 86%|████████▌ | 12/14 [01:08<00:12,  6.06s/it]"
          ]
        },
        {
          "output_type": "stream",
          "name": "stdout",
          "text": [
            " Alfred_Sisley_159.jpg saved\n"
          ]
        },
        {
          "output_type": "stream",
          "name": "stderr",
          "text": [
            "\r 93%|█████████▎| 13/14 [01:09<00:04,  4.66s/it]"
          ]
        },
        {
          "output_type": "stream",
          "name": "stdout",
          "text": [
            " Andy_Warhol_58.jpg saved\n"
          ]
        },
        {
          "output_type": "stream",
          "name": "stderr",
          "text": [
            "100%|██████████| 14/14 [01:10<00:00,  5.07s/it]"
          ]
        },
        {
          "output_type": "stream",
          "name": "stdout",
          "text": [
            " Andy_Warhol_52.jpg saved\n"
          ]
        },
        {
          "output_type": "stream",
          "name": "stderr",
          "text": [
            "\n"
          ]
        }
      ],
      "execution_count": 51,
      "metadata": {
        "colab": {
          "base_uri": "https://localhost:8080/"
        },
        "id": "NV2-Wwp99YMm",
        "outputId": "ec71d79e-9abd-49d6-81cb-2bb447eb3f01"
      }
    },
    {
      "cell_type": "markdown",
      "source": [
        "Esta función funciona de la siguiente manera:\n",
        "\n",
        "* Primero, obtiene los valores RGB de la imagen.\n",
        "* Luego, convierte los valores RGB a un solo canal.\n",
        "* A continuación, aplica k-means para agrupar los píxeles en m grupos.\n",
        "* Finalmente, reemplaza los valores de los píxeles por el centro del grupo al que pertenecen.\n",
        "\n",
        "La función k-means es un algoritmo de aprendizaje automático no supervisado que se utiliza para agrupar datos en grupos. En este caso, se utiliza para agrupar los píxeles de la imagen en m grupos, donde m es el número de colores deseados.\n",
        "\n",
        "Para obtener el número de colores deseados, el usuario debe pasar el valor m como argumento a la función. Por ejemplo, para dividir una imagen en 5 colores, el usuario pasaría el valor 5 como argumento.\n",
        "\n",
        "La función devuelve una imagen RGB con m colores. Los valores de los píxeles de la imagen dividida son los centros de los grupos a los que pertenecen los píxeles originales."
      ],
      "metadata": {
        "id": "0WbopQ4h9YMn"
      }
    },
    {
      "cell_type": "markdown",
      "source": [
        "## Uso directo de la funcion quantize"
      ],
      "metadata": {
        "id": "7cIPpyqkmhWc"
      }
    },
    {
      "cell_type": "code",
      "source": [
        "from PIL import Image\n",
        "from pprint import pprint as pp\n",
        "\n",
        "GREEN   = [128, 255, 0]\n",
        "YELLOW  = [253, 238, 0]\n",
        "RED     = [255, 8, 0]\n",
        "BLUE    = [32, 114, 175]\n",
        "WHITE   = [242, 243, 244]\n",
        "BLACK   = [0, 0, 0]\n",
        "\n",
        "if __name__==\"__main__\":\n",
        "  im = Image.open(\"/content/IMAGES/Alfred_Sisley_121.jpg\")\n",
        "\n",
        "  palIm = Image.new('P', (1,1))\n",
        "  palette = GREEN + YELLOW + RED + BLUE + WHITE + BLACK\n",
        "  palIm.putpalette(palette)\n",
        "\n",
        "  im2 = im.quantize(colors=4,dither = Image.Dither.NONE, method = Image.Quantize.MEDIANCUT, kmeans = 1, palette = palIm)\n",
        "  im2.convert('RGB').save(\"/content/RESULT/PIL/Alfred_Sisley_121.jpg\")"
      ],
      "metadata": {
        "id": "on29lneWmoVp"
      },
      "execution_count": 117,
      "outputs": []
    }
  ],
  "metadata": {
    "colab": {
      "provenance": [],
      "gpuType": "T4",
      "include_colab_link": true
    },
    "kernelspec": {
      "display_name": "Python 3",
      "name": "python3"
    },
    "accelerator": "GPU"
  },
  "nbformat": 4,
  "nbformat_minor": 0
}